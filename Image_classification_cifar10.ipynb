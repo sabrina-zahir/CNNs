{
  "nbformat": 4,
  "nbformat_minor": 0,
  "metadata": {
    "colab": {
      "name": "Image_classification_cifar10.ipynb",
      "provenance": []
    },
    "kernelspec": {
      "name": "python3",
      "display_name": "Python 3"
    },
    "language_info": {
      "name": "python"
    }
  },
  "cells": [
    {
      "cell_type": "code",
      "execution_count": 37,
      "metadata": {
        "id": "dq9NP0hKNYy9"
      },
      "outputs": [],
      "source": [
        "import tensorflow as tf\n",
        "from tensorflow.keras import datasets, layers, models\n",
        "import matplotlib.pyplot as plt\n",
        "import numpy as np"
      ]
    },
    {
      "cell_type": "code",
      "source": [
        "(x_train, y_train), (x_test, y_test) = datasets.cifar10.load_data()\n",
        "x_train.shape"
      ],
      "metadata": {
        "colab": {
          "base_uri": "https://localhost:8080/"
        },
        "id": "N493fj6qpgj7",
        "outputId": "7255c65b-fa50-4738-d756-0dd3c95d27f9"
      },
      "execution_count": 2,
      "outputs": [
        {
          "output_type": "stream",
          "name": "stdout",
          "text": [
            "Downloading data from https://www.cs.toronto.edu/~kriz/cifar-10-python.tar.gz\n",
            "170500096/170498071 [==============================] - 4s 0us/step\n",
            "170508288/170498071 [==============================] - 4s 0us/step\n"
          ]
        },
        {
          "output_type": "execute_result",
          "data": {
            "text/plain": [
              "(50000, 32, 32, 3)"
            ]
          },
          "metadata": {},
          "execution_count": 2
        }
      ]
    },
    {
      "cell_type": "code",
      "source": [
        "x_test.shape"
      ],
      "metadata": {
        "colab": {
          "base_uri": "https://localhost:8080/"
        },
        "id": "6xvwWbTXp28_",
        "outputId": "a747e1f0-cdb5-4372-d3b2-85caeb226329"
      },
      "execution_count": 3,
      "outputs": [
        {
          "output_type": "execute_result",
          "data": {
            "text/plain": [
              "(10000, 32, 32, 3)"
            ]
          },
          "metadata": {},
          "execution_count": 3
        }
      ]
    },
    {
      "cell_type": "code",
      "source": [
        "y_train.shape"
      ],
      "metadata": {
        "colab": {
          "base_uri": "https://localhost:8080/"
        },
        "id": "dBNCysJ1p87q",
        "outputId": "e169b24c-55da-429c-ed06-95cf87a6b61e"
      },
      "execution_count": 4,
      "outputs": [
        {
          "output_type": "execute_result",
          "data": {
            "text/plain": [
              "(50000, 1)"
            ]
          },
          "metadata": {},
          "execution_count": 4
        }
      ]
    },
    {
      "cell_type": "code",
      "source": [
        "y_train[:5]"
      ],
      "metadata": {
        "colab": {
          "base_uri": "https://localhost:8080/"
        },
        "id": "pkGeb0KWp_SP",
        "outputId": "f2e8c04c-1f39-4446-ec82-a110d24cb95e"
      },
      "execution_count": 5,
      "outputs": [
        {
          "output_type": "execute_result",
          "data": {
            "text/plain": [
              "array([[6],\n",
              "       [9],\n",
              "       [9],\n",
              "       [4],\n",
              "       [1]], dtype=uint8)"
            ]
          },
          "metadata": {},
          "execution_count": 5
        }
      ]
    },
    {
      "cell_type": "code",
      "source": [
        "y_train = y_train.reshape(-1,)\n"
      ],
      "metadata": {
        "id": "GEzJQmaqqKxd"
      },
      "execution_count": 6,
      "outputs": []
    },
    {
      "cell_type": "code",
      "source": [
        "classes = [\"airplane\",\"automobile\",\"bird\",\"cat\",\"deer\",\"dog\",\"frog\",\"horse\",\"ship\",\"truck\"]"
      ],
      "metadata": {
        "id": "GC8649-1qVx0"
      },
      "execution_count": 7,
      "outputs": []
    },
    {
      "cell_type": "code",
      "source": [
        "def plot_sample(x, y, index):\n",
        "  plt.figure(figsize = (15,4))\n",
        "  plt.imshow(x[index])\n",
        "  plt.xlabel(classes[y[index]])\n"
      ],
      "metadata": {
        "id": "kCDXXw7LqZmz"
      },
      "execution_count": 12,
      "outputs": []
    },
    {
      "cell_type": "code",
      "source": [
        "plot_sample(x_train, y_train, 33)"
      ],
      "metadata": {
        "colab": {
          "base_uri": "https://localhost:8080/",
          "height": 280
        },
        "id": "K-QTfiElq1ND",
        "outputId": "ba91e3c2-0fd4-4899-b76b-f20bc39aed15"
      },
      "execution_count": 14,
      "outputs": [
        {
          "output_type": "display_data",
          "data": {
            "text/plain": [
              "<Figure size 1080x288 with 1 Axes>"
            ],
            "image/png": "[encoded data removed]"
          },
          "metadata": {
            "needs_background": "light"
          }
        }
      ]
    },
    {
      "cell_type": "code",
      "source": [
        "plot_sample(x_train, y_train, 1111)"
      ],
      "metadata": {
        "colab": {
          "base_uri": "https://localhost:8080/",
          "height": 280
        },
        "id": "4Dnqno6fri0q",
        "outputId": "e1441a48-6573-4c66-f45e-14588faf56f0"
      },
      "execution_count": 17,
      "outputs": [
        {
          "output_type": "display_data",
          "data": {
            "text/plain": [
              "<Figure size 1080x288 with 1 Axes>"
            ],
            "image/png": "[encoded data removed]"
          },
          "metadata": {
            "needs_background": "light"
          }
        }
      ]
    },
    {
      "cell_type": "code",
      "source": [
        "x_train = x_train/255.0\n",
        "x_test = x_test/255.0"
      ],
      "metadata": {
        "id": "MMCh5vker1sv"
      },
      "execution_count": 18,
      "outputs": []
    },
    {
      "cell_type": "code",
      "source": [
        "cnn = models.Sequential([layers.Conv2D(filters= 32, kernel_size=(3, 3), activation='relu', input_shape=(32, 32, 3)),\n",
        "                         layers.MaxPooling2D((2, 2)),\n",
        "                         layers.Conv2D(filters= 64, kernel_size=(3,3 ), activation='relu'),\n",
        "                         layers.MaxPooling2D((2,2)),\n",
        "                         layers.Flatten(),\n",
        "                         layers.Dense(64, activation='relu'),\n",
        "                         layers.Dense(126, activation='relu'),\n",
        "                         layers.Dense(10, activation='softmax')\n",
        "                         ])"
      ],
      "metadata": {
        "id": "4qBQdhx9sJHx"
      },
      "execution_count": 20,
      "outputs": []
    },
    {
      "cell_type": "code",
      "source": [
        "cnn.compile(optimizer = 'adamax',\n",
        "            loss= 'sparse_categorical_crossentropy',\n",
        "            metrics=['accuracy'])"
      ],
      "metadata": {
        "id": "_U-vHLu9turd"
      },
      "execution_count": 21,
      "outputs": []
    },
    {
      "cell_type": "code",
      "source": [
        "cnn.fit(x_train, y_train, epochs = 20)"
      ],
      "metadata": {
        "colab": {
          "base_uri": "https://localhost:8080/"
        },
        "id": "R-mohKOCt_22",
        "outputId": "a3a5bd51-525b-4e9a-d20b-3450cc79e206"
      },
      "execution_count": 22,
      "outputs": [
        {
          "output_type": "stream",
          "name": "stdout",
          "text": [
            "Epoch 1/20\n",
            "1563/1563 [==============================] - 60s 38ms/step - loss: 1.6593 - accuracy: 0.3922\n",
            "Epoch 2/20\n",
            "1563/1563 [==============================] - 59s 38ms/step - loss: 1.3272 - accuracy: 0.5241\n",
            "Epoch 3/20\n",
            "1563/1563 [==============================] - 59s 38ms/step - loss: 1.1849 - accuracy: 0.5783\n",
            "Epoch 4/20\n",
            "1563/1563 [==============================] - 59s 37ms/step - loss: 1.0796 - accuracy: 0.6202\n",
            "Epoch 5/20\n",
            "1563/1563 [==============================] - 59s 38ms/step - loss: 0.9973 - accuracy: 0.6513\n",
            "Epoch 6/20\n",
            "1563/1563 [==============================] - 59s 38ms/step - loss: 0.9349 - accuracy: 0.6738\n",
            "Epoch 7/20\n",
            "1563/1563 [==============================] - 58s 37ms/step - loss: 0.8802 - accuracy: 0.6929\n",
            "Epoch 8/20\n",
            "1563/1563 [==============================] - 58s 37ms/step - loss: 0.8321 - accuracy: 0.7099\n",
            "Epoch 9/20\n",
            "1563/1563 [==============================] - 58s 37ms/step - loss: 0.7911 - accuracy: 0.7259\n",
            "Epoch 10/20\n",
            "1563/1563 [==============================] - 59s 37ms/step - loss: 0.7546 - accuracy: 0.7388\n",
            "Epoch 11/20\n",
            "1563/1563 [==============================] - 59s 38ms/step - loss: 0.7140 - accuracy: 0.7530\n",
            "Epoch 12/20\n",
            "1563/1563 [==============================] - 59s 38ms/step - loss: 0.6790 - accuracy: 0.7664\n",
            "Epoch 13/20\n",
            "1563/1563 [==============================] - 59s 38ms/step - loss: 0.6438 - accuracy: 0.7759\n",
            "Epoch 14/20\n",
            "1563/1563 [==============================] - 59s 38ms/step - loss: 0.6095 - accuracy: 0.7894\n",
            "Epoch 15/20\n",
            "1563/1563 [==============================] - 58s 37ms/step - loss: 0.5773 - accuracy: 0.8000\n",
            "Epoch 16/20\n",
            "1563/1563 [==============================] - 58s 37ms/step - loss: 0.5464 - accuracy: 0.8123\n",
            "Epoch 17/20\n",
            "1563/1563 [==============================] - 59s 37ms/step - loss: 0.5153 - accuracy: 0.8240\n",
            "Epoch 18/20\n",
            "1563/1563 [==============================] - 58s 37ms/step - loss: 0.4865 - accuracy: 0.8313\n",
            "Epoch 19/20\n",
            "1563/1563 [==============================] - 58s 37ms/step - loss: 0.4563 - accuracy: 0.8457\n",
            "Epoch 20/20\n",
            "1563/1563 [==============================] - 58s 37ms/step - loss: 0.4278 - accuracy: 0.8553\n"
          ]
        },
        {
          "output_type": "execute_result",
          "data": {
            "text/plain": [
              "<keras.callbacks.History at 0x7fd7db4bf5d0>"
            ]
          },
          "metadata": {},
          "execution_count": 22
        }
      ]
    },
    {
      "cell_type": "code",
      "source": [
        "cnn.evaluate(x_test,y_test)"
      ],
      "metadata": {
        "colab": {
          "base_uri": "https://localhost:8080/"
        },
        "id": "05ttfC60uS3R",
        "outputId": "64b42ecf-1d65-4a84-90d0-1e31546b34ea"
      },
      "execution_count": 23,
      "outputs": [
        {
          "output_type": "stream",
          "name": "stdout",
          "text": [
            "313/313 [==============================] - 4s 11ms/step - loss: 0.9930 - accuracy: 0.7033\n"
          ]
        },
        {
          "output_type": "execute_result",
          "data": {
            "text/plain": [
              "[0.9929676651954651, 0.7032999992370605]"
            ]
          },
          "metadata": {},
          "execution_count": 23
        }
      ]
    },
    {
      "cell_type": "code",
      "source": [
        "y_pred = cnn.predict(x_test)\n",
        "y_pred[:5]"
      ],
      "metadata": {
        "colab": {
          "base_uri": "https://localhost:8080/"
        },
        "id": "iZSPd49K0R_r",
        "outputId": "f21f88bf-79b4-4413-bf94-b423ff35a3c6"
      },
      "execution_count": 24,
      "outputs": [
        {
          "output_type": "execute_result",
          "data": {
            "text/plain": [
              "array([[1.06092740e-03, 3.26635345e-05, 8.20938032e-03, 9.72059250e-01,\n",
              "        1.05209951e-03, 1.51241561e-02, 1.54598267e-03, 7.57635571e-05,\n",
              "        4.05756524e-04, 4.33979934e-04],\n",
              "       [1.69848069e-03, 5.88175021e-02, 6.55005579e-08, 1.93596770e-06,\n",
              "        7.04326952e-09, 1.23654672e-07, 7.64399655e-09, 5.85453463e-08,\n",
              "        9.38815773e-01, 6.66000065e-04],\n",
              "       [1.08644627e-01, 2.83663809e-01, 1.28812564e-04, 1.63227634e-03,\n",
              "        3.04944551e-04, 5.07903169e-04, 1.21879384e-04, 9.45022388e-04,\n",
              "        2.04844207e-01, 3.99206430e-01],\n",
              "       [9.64400709e-01, 2.11739610e-03, 2.62494618e-03, 3.46267298e-05,\n",
              "        4.91359551e-03, 2.62568346e-06, 1.20979375e-05, 6.76247873e-05,\n",
              "        2.50710193e-02, 7.55342015e-04],\n",
              "       [6.47808829e-09, 6.49679180e-07, 1.99525297e-04, 4.32443433e-03,\n",
              "        1.85586396e-03, 3.24680586e-05, 9.93584216e-01, 8.19469159e-10,\n",
              "        2.65739709e-06, 1.92233802e-08]], dtype=float32)"
            ]
          },
          "metadata": {},
          "execution_count": 24
        }
      ]
    },
    {
      "cell_type": "code",
      "source": [
        "y_classes = [np.argmax(element) for element in y_pred]\n",
        "y_classes[:5]"
      ],
      "metadata": {
        "colab": {
          "base_uri": "https://localhost:8080/"
        },
        "id": "_FZsUQpo0Xcg",
        "outputId": "cddf7ffc-c563-4279-b183-028d3041fd40"
      },
      "execution_count": 25,
      "outputs": [
        {
          "output_type": "execute_result",
          "data": {
            "text/plain": [
              "[3, 8, 9, 0, 6]"
            ]
          },
          "metadata": {},
          "execution_count": 25
        }
      ]
    },
    {
      "cell_type": "code",
      "source": [
        "y_test[:5]"
      ],
      "metadata": {
        "colab": {
          "base_uri": "https://localhost:8080/"
        },
        "id": "YEANpSJf0b8V",
        "outputId": "b3279eec-7ff0-4025-a9a9-7246651b45b4"
      },
      "execution_count": 26,
      "outputs": [
        {
          "output_type": "execute_result",
          "data": {
            "text/plain": [
              "array([[3],\n",
              "       [8],\n",
              "       [8],\n",
              "       [0],\n",
              "       [6]], dtype=uint8)"
            ]
          },
          "metadata": {},
          "execution_count": 26
        }
      ]
    },
    {
      "cell_type": "code",
      "source": [
        "plot_sample(x_test, y_test, 22)"
      ],
      "metadata": {
        "colab": {
          "base_uri": "https://localhost:8080/",
          "height": 502
        },
        "id": "5EZxeuue0eon",
        "outputId": "677dcab5-ab2c-45f2-904e-3eac0595fbce"
      },
      "execution_count": 35,
      "outputs": [
        {
          "output_type": "error",
          "ename": "TypeError",
          "evalue": "ignored",
          "traceback": [
            "\u001b[0;31m---------------------------------------------------------------------------\u001b[0m",
            "\u001b[0;31mTypeError\u001b[0m                                 Traceback (most recent call last)",
            "\u001b[0;32m<ipython-input-35-906c3c7c84e2>\u001b[0m in \u001b[0;36m<module>\u001b[0;34m()\u001b[0m\n\u001b[0;32m----> 1\u001b[0;31m \u001b[0mplot_sample\u001b[0m\u001b[0;34m(\u001b[0m\u001b[0mx_test\u001b[0m\u001b[0;34m,\u001b[0m \u001b[0my_test\u001b[0m\u001b[0;34m,\u001b[0m \u001b[0;36m22\u001b[0m\u001b[0;34m)\u001b[0m\u001b[0;34m\u001b[0m\u001b[0;34m\u001b[0m\u001b[0m\n\u001b[0m",
            "\u001b[0;32m<ipython-input-12-a162cf030825>\u001b[0m in \u001b[0;36mplot_sample\u001b[0;34m(x, y, index)\u001b[0m\n\u001b[1;32m      2\u001b[0m   \u001b[0mplt\u001b[0m\u001b[0;34m.\u001b[0m\u001b[0mfigure\u001b[0m\u001b[0;34m(\u001b[0m\u001b[0mfigsize\u001b[0m \u001b[0;34m=\u001b[0m \u001b[0;34m(\u001b[0m\u001b[0;36m15\u001b[0m\u001b[0;34m,\u001b[0m\u001b[0;36m4\u001b[0m\u001b[0;34m)\u001b[0m\u001b[0;34m)\u001b[0m\u001b[0;34m\u001b[0m\u001b[0;34m\u001b[0m\u001b[0m\n\u001b[1;32m      3\u001b[0m   \u001b[0mplt\u001b[0m\u001b[0;34m.\u001b[0m\u001b[0mimshow\u001b[0m\u001b[0;34m(\u001b[0m\u001b[0mx\u001b[0m\u001b[0;34m[\u001b[0m\u001b[0mindex\u001b[0m\u001b[0;34m]\u001b[0m\u001b[0;34m)\u001b[0m\u001b[0;34m\u001b[0m\u001b[0;34m\u001b[0m\u001b[0m\n\u001b[0;32m----> 4\u001b[0;31m   \u001b[0mplt\u001b[0m\u001b[0;34m.\u001b[0m\u001b[0mxlabel\u001b[0m\u001b[0;34m(\u001b[0m\u001b[0mclasses\u001b[0m\u001b[0;34m[\u001b[0m\u001b[0my\u001b[0m\u001b[0;34m[\u001b[0m\u001b[0mindex\u001b[0m\u001b[0;34m]\u001b[0m\u001b[0;34m]\u001b[0m\u001b[0;34m)\u001b[0m\u001b[0;34m\u001b[0m\u001b[0;34m\u001b[0m\u001b[0m\n\u001b[0m",
            "\u001b[0;31mTypeError\u001b[0m: only integer scalar arrays can be converted to a scalar index"
          ]
        },
        {
          "output_type": "display_data",
          "data": {
            "text/plain": [
              "<Figure size 1080x288 with 1 Axes>"
            ],
            "image/png": "[encoded data removed]"
          },
          "metadata": {
            "needs_background": "light"
          }
        }
      ]
    },
    {
      "cell_type": "code",
      "source": [
        "classes[y_classes[22]]"
      ],
      "metadata": {
        "colab": {
          "base_uri": "https://localhost:8080/",
          "height": 35
        },
        "id": "-cynZaQC0vvF",
        "outputId": "2efbb0a6-e907-4e4e-f433-6ea0d548a70b"
      },
      "execution_count": 36,
      "outputs": [
        {
          "output_type": "execute_result",
          "data": {
            "text/plain": [
              "'deer'"
            ],
            "application/vnd.google.colaboratory.intrinsic+json": {
              "type": "string"
            }
          },
          "metadata": {},
          "execution_count": 36
        }
      ]
    }
  ]
}